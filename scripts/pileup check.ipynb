{
 "cells": [
  {
   "cell_type": "code",
   "execution_count": 1,
   "metadata": {},
   "outputs": [],
   "source": [
    "import sys,pysam, time,os,re,copy,argparse, tensorboard,gzip\n",
    "from collections import Counter\n",
    "import pandas as pd\n",
    "import numpy as np\n",
    "import multiprocessing as mp\n",
    "from pysam import VariantFile\n",
    "import tensorflow as tf\n",
    "import generate_pileups as gcp\n",
    "from matplotlib import pyplot as plt\n",
    "from importlib import reload\n",
    "import CNN_model as model\n",
    "import utils\n"
   ]
  },
  {
   "cell_type": "code",
   "execution_count": 72,
   "metadata": {},
   "outputs": [],
   "source": [
    "sam_hg001_ulr_path='/home/ahsanm1/umair_wlab/data/NA12878_nanopore_rel5/rel5-guppy-0.3.0-chunk10k.sorted.bam'\n",
    "fasta_path='/home/ahsanm1/umair_wlab/data/NA12878_nanopore_rel5/GRCh38_full_analysis_set_plus_decoy_hla.fa'\n",
    "vcf_path='/home/ahsanm1/umair_wlab/data/NanoVar_data/HG001.inbed.SNPonly.uniq.normalizeGT.vcf.gz'\n",
    "sam_path='/home/ahsanm1/shared_data/NA12878/Nanopore/Alignmentsbychromosome/chr20.sorted.bam'\n",
    "sam_hg001_ulr = pysam.Samfile(sam_path, \"rb\")\n",
    "amplicon_path='/home/ahsanm1/umair_wlab/data/CYP2D6/CYP2D6.bam'\n",
    "\n",
    "params={'mode':'testing','threshold':0.15,'chrom':'chr20','start':25300892,'end':27420892,'sam_path':sam_path,'fasta_path':fasta_path,'vcf_path':vcf_path,'depth':32,'window':16,'cpu':8}"
   ]
  },
  {
   "cell_type": "code",
   "execution_count": 38,
   "metadata": {},
   "outputs": [],
   "source": [
    "dct={'mode':'testing','threshold':0.15,'chrom':'chr20','start':45300892,'end':47420892,'sam_path':sam_hg001_ulr_path,'fasta_path':fasta_path,'vcf_path':vcf_path,'depth':32,'window':16,'cpu':8}\n"
   ]
  },
  {
   "cell_type": "code",
   "execution_count": 39,
   "metadata": {},
   "outputs": [
    {
     "data": {
      "text/plain": [
       "40468"
      ]
     },
     "execution_count": 39,
     "metadata": {},
     "output_type": "execute_result"
    }
   ],
   "source": [
    "params={'mode':'testing','threshold':0.15,'chrom':'chr20','start':45300892,'end':47420892,'sam_path':sam_hg001_ulr_path,'fasta_path':fasta_path,'vcf_path':vcf_path,'depth':32,'window':16,'cpu':8}\n",
    "res2=gcp.get_candidates(params)\n",
    "len(res2)"
   ]
  },
  {
   "cell_type": "code",
   "execution_count": 40,
   "metadata": {},
   "outputs": [
    {
     "data": {
      "text/plain": [
       "40468"
      ]
     },
     "execution_count": 40,
     "metadata": {},
     "output_type": "execute_result"
    }
   ],
   "source": [
    "params={'mode':'testing','threshold':0.15,'chrom':'chr20','start':45300892,'end':47420892,'sam_path':sam_path,'fasta_path':fasta_path,'vcf_path':vcf_path,'depth':32,'window':16,'cpu':8}\n",
    "res=gcp.get_candidates(params)\n",
    "len(res)"
   ]
  },
  {
   "cell_type": "code",
   "execution_count": 41,
   "metadata": {},
   "outputs": [],
   "source": [
    "tr=extract_vcf(params)"
   ]
  },
  {
   "cell_type": "code",
   "execution_count": 91,
   "metadata": {},
   "outputs": [],
   "source": [
    "amp_params={'mode':'testing','threshold':0.15,'bed':False,'chrom':'chr22','start':42522077,'end':42527144,'sam_path':amplicon_path,'out_path':'/home/ahsanm1/umair_wlab/data/CYP2D6/','fasta_path':fasta_path,'vcf_path':vcf_path,'depth':1024,'window':16,'cpu':8}"
   ]
  },
  {
   "cell_type": "code",
   "execution_count": 92,
   "metadata": {},
   "outputs": [
    {
     "name": "stdout",
     "output_type": "stream",
     "text": [
      "starting pileups\n",
      "starting pool:42522077\n"
     ]
    },
    {
     "ename": "ValueError",
     "evalue": "operands could not be broadcast together with shapes (17,32) (17,33) ",
     "output_type": "error",
     "traceback": [
      "\u001b[0;31m---------------------------------------------------------------------------\u001b[0m",
      "\u001b[0;31mRemoteTraceback\u001b[0m                           Traceback (most recent call last)",
      "\u001b[0;31mRemoteTraceback\u001b[0m: \n\"\"\"\nTraceback (most recent call last):\n  File \"/home/ahsanm1/anaconda3/envs/tf/lib/python3.6/multiprocessing/pool.py\", line 119, in worker\n    result = (True, func(*args, **kwds))\n  File \"/home/ahsanm1/anaconda3/envs/tf/lib/python3.6/multiprocessing/pool.py\", line 44, in mapstar\n    return list(map(*args))\n  File \"/home/ahsanm1/repos/NanoVar/scripts/generate_pileups.py\", line 250, in create_pileup\n    res=create_pileup_image(in_dct,v_pos=v_pos)\n  File \"/home/ahsanm1/repos/NanoVar/scripts/generate_pileups.py\", line 330, in create_pileup_image\n    f_mat=np.array(f_df)*ref_match\nValueError: operands could not be broadcast together with shapes (17,32) (17,33) \n\"\"\"",
      "\nThe above exception was the direct cause of the following exception:\n",
      "\u001b[0;31mValueError\u001b[0m                                Traceback (most recent call last)",
      "\u001b[0;32m<ipython-input-92-444e2cec4c7b>\u001b[0m in \u001b[0;36m<module>\u001b[0;34m\u001b[0m\n\u001b[1;32m      1\u001b[0m \u001b[0mreload\u001b[0m\u001b[0;34m(\u001b[0m\u001b[0mgcp\u001b[0m\u001b[0;34m)\u001b[0m\u001b[0;34m\u001b[0m\u001b[0;34m\u001b[0m\u001b[0m\n\u001b[0;32m----> 2\u001b[0;31m \u001b[0mgcp\u001b[0m\u001b[0;34m.\u001b[0m\u001b[0mgenerate\u001b[0m\u001b[0;34m(\u001b[0m\u001b[0mamp_params\u001b[0m\u001b[0;34m)\u001b[0m\u001b[0;34m\u001b[0m\u001b[0;34m\u001b[0m\u001b[0m\n\u001b[0m",
      "\u001b[0;32m~/repos/NanoVar/scripts/generate_pileups.py\u001b[0m in \u001b[0;36mgenerate\u001b[0;34m(params, mode)\u001b[0m\n\u001b[1;32m    414\u001b[0m                 \u001b[0md\u001b[0m\u001b[0;34m[\u001b[0m\u001b[0;34m'end'\u001b[0m\u001b[0;34m]\u001b[0m\u001b[0;34m=\u001b[0m\u001b[0mk\u001b[0m\u001b[0;34m+\u001b[0m\u001b[0;36m50000\u001b[0m\u001b[0;34m\u001b[0m\u001b[0;34m\u001b[0m\u001b[0m\n\u001b[1;32m    415\u001b[0m                 \u001b[0min_dict_list\u001b[0m\u001b[0;34m.\u001b[0m\u001b[0mappend\u001b[0m\u001b[0;34m(\u001b[0m\u001b[0md\u001b[0m\u001b[0;34m)\u001b[0m\u001b[0;34m\u001b[0m\u001b[0;34m\u001b[0m\u001b[0m\n\u001b[0;32m--> 416\u001b[0;31m             \u001b[0mresults\u001b[0m \u001b[0;34m=\u001b[0m \u001b[0mpool\u001b[0m\u001b[0;34m.\u001b[0m\u001b[0mmap\u001b[0m\u001b[0;34m(\u001b[0m\u001b[0mcreate_pileup\u001b[0m\u001b[0;34m,\u001b[0m \u001b[0min_dict_list\u001b[0m\u001b[0;34m)\u001b[0m\u001b[0;34m\u001b[0m\u001b[0;34m\u001b[0m\u001b[0m\n\u001b[0m\u001b[1;32m    417\u001b[0m             \u001b[0;32mfor\u001b[0m \u001b[0mres_dict\u001b[0m \u001b[0;32min\u001b[0m \u001b[0mresults\u001b[0m\u001b[0;34m:\u001b[0m\u001b[0;34m\u001b[0m\u001b[0;34m\u001b[0m\u001b[0m\n\u001b[1;32m    418\u001b[0m                 \u001b[0;32mif\u001b[0m \u001b[0mres_dict\u001b[0m\u001b[0;34m:\u001b[0m\u001b[0;34m\u001b[0m\u001b[0;34m\u001b[0m\u001b[0m\n",
      "\u001b[0;32m~/anaconda3/envs/tf/lib/python3.6/multiprocessing/pool.py\u001b[0m in \u001b[0;36mmap\u001b[0;34m(self, func, iterable, chunksize)\u001b[0m\n\u001b[1;32m    264\u001b[0m         \u001b[0;32min\u001b[0m \u001b[0ma\u001b[0m \u001b[0mlist\u001b[0m \u001b[0mthat\u001b[0m \u001b[0;32mis\u001b[0m \u001b[0mreturned\u001b[0m\u001b[0;34m.\u001b[0m\u001b[0;34m\u001b[0m\u001b[0;34m\u001b[0m\u001b[0m\n\u001b[1;32m    265\u001b[0m         '''\n\u001b[0;32m--> 266\u001b[0;31m         \u001b[0;32mreturn\u001b[0m \u001b[0mself\u001b[0m\u001b[0;34m.\u001b[0m\u001b[0m_map_async\u001b[0m\u001b[0;34m(\u001b[0m\u001b[0mfunc\u001b[0m\u001b[0;34m,\u001b[0m \u001b[0miterable\u001b[0m\u001b[0;34m,\u001b[0m \u001b[0mmapstar\u001b[0m\u001b[0;34m,\u001b[0m \u001b[0mchunksize\u001b[0m\u001b[0;34m)\u001b[0m\u001b[0;34m.\u001b[0m\u001b[0mget\u001b[0m\u001b[0;34m(\u001b[0m\u001b[0;34m)\u001b[0m\u001b[0;34m\u001b[0m\u001b[0;34m\u001b[0m\u001b[0m\n\u001b[0m\u001b[1;32m    267\u001b[0m \u001b[0;34m\u001b[0m\u001b[0m\n\u001b[1;32m    268\u001b[0m     \u001b[0;32mdef\u001b[0m \u001b[0mstarmap\u001b[0m\u001b[0;34m(\u001b[0m\u001b[0mself\u001b[0m\u001b[0;34m,\u001b[0m \u001b[0mfunc\u001b[0m\u001b[0;34m,\u001b[0m \u001b[0miterable\u001b[0m\u001b[0;34m,\u001b[0m \u001b[0mchunksize\u001b[0m\u001b[0;34m=\u001b[0m\u001b[0;32mNone\u001b[0m\u001b[0;34m)\u001b[0m\u001b[0;34m:\u001b[0m\u001b[0;34m\u001b[0m\u001b[0;34m\u001b[0m\u001b[0m\n",
      "\u001b[0;32m~/anaconda3/envs/tf/lib/python3.6/multiprocessing/pool.py\u001b[0m in \u001b[0;36mget\u001b[0;34m(self, timeout)\u001b[0m\n\u001b[1;32m    642\u001b[0m             \u001b[0;32mreturn\u001b[0m \u001b[0mself\u001b[0m\u001b[0;34m.\u001b[0m\u001b[0m_value\u001b[0m\u001b[0;34m\u001b[0m\u001b[0;34m\u001b[0m\u001b[0m\n\u001b[1;32m    643\u001b[0m         \u001b[0;32melse\u001b[0m\u001b[0;34m:\u001b[0m\u001b[0;34m\u001b[0m\u001b[0;34m\u001b[0m\u001b[0m\n\u001b[0;32m--> 644\u001b[0;31m             \u001b[0;32mraise\u001b[0m \u001b[0mself\u001b[0m\u001b[0;34m.\u001b[0m\u001b[0m_value\u001b[0m\u001b[0;34m\u001b[0m\u001b[0;34m\u001b[0m\u001b[0m\n\u001b[0m\u001b[1;32m    645\u001b[0m \u001b[0;34m\u001b[0m\u001b[0m\n\u001b[1;32m    646\u001b[0m     \u001b[0;32mdef\u001b[0m \u001b[0m_set\u001b[0m\u001b[0;34m(\u001b[0m\u001b[0mself\u001b[0m\u001b[0;34m,\u001b[0m \u001b[0mi\u001b[0m\u001b[0;34m,\u001b[0m \u001b[0mobj\u001b[0m\u001b[0;34m)\u001b[0m\u001b[0;34m:\u001b[0m\u001b[0;34m\u001b[0m\u001b[0;34m\u001b[0m\u001b[0m\n",
      "\u001b[0;31mValueError\u001b[0m: operands could not be broadcast together with shapes (17,32) (17,33) "
     ]
    }
   ],
   "source": [
    "reload(gcp)\n",
    "gcp.generate(amp_params)\n"
   ]
  },
  {
   "cell_type": "code",
   "execution_count": 79,
   "metadata": {},
   "outputs": [],
   "source": [
    "amp_file =pysam.Samfile(amplicon_path, \"rb\")"
   ]
  },
  {
   "cell_type": "raw",
   "metadata": {},
   "source": []
  },
  {
   "cell_type": "code",
   "execution_count": 81,
   "metadata": {},
   "outputs": [],
   "source": [
    "r_list=[]\n",
    "for pcol in amp_file.pileup('chr22',42522077,42527144,min_base_quality=0,flag_filter=0x4|0x100|0x200|0x400,truncate=True):\n",
    "    s=''\n",
    "    for pread in pcol.pileups:\n",
    "            if type(pread.query_position)==int:\n",
    "                s+=pread.alignment.query_sequence[pread.query_position]\n",
    "            else:\n",
    "                s+='*'\n",
    "    #s=''.join([pread.alignment.query_sequence[pread.query_position] if pread.query_position else '*' for pread in pcol.pileups if not pread.alignment.flag & (0x4|0x100|0x200|0x400|0x800)])\n",
    "    #print(s)\n",
    "    seq=''\n",
    "    for x in pcol.get_query_sequences():\n",
    "        if x in ['N','n']:\n",
    "            print('NNNN')\n",
    "        elif x not in ['N','n']:\n",
    "            if len(x)>0:\n",
    "                seq+=x.upper()\n",
    "            else:\n",
    "                seq+='*'\n",
    "        r_list.append(seq)\n",
    "    \n",
    "    "
   ]
  },
  {
   "cell_type": "code",
   "execution_count": 82,
   "metadata": {},
   "outputs": [
    {
     "data": {
      "text/plain": [
       "6012573"
      ]
     },
     "execution_count": 82,
     "metadata": {},
     "output_type": "execute_result"
    }
   ],
   "source": [
    "len(r_list)"
   ]
  },
  {
   "cell_type": "code",
   "execution_count": 44,
   "metadata": {},
   "outputs": [],
   "source": [
    "v_pos=27522077\n",
    "for pcol in samfile.pileup('chr20',v_pos-1,v_pos,min_base_quality=0,stepper='nofilter',truncate=True):\n",
    "    pcol.get_query_sequences()"
   ]
  },
  {
   "cell_type": "code",
   "execution_count": 45,
   "metadata": {
    "scrolled": true
   },
   "outputs": [
    {
     "data": {
      "text/plain": [
       "[0,\n",
       " 256,\n",
       " 2048,\n",
       " 0,\n",
       " 256,\n",
       " 2048,\n",
       " 272,\n",
       " 272,\n",
       " 272,\n",
       " 256,\n",
       " 272,\n",
       " 272,\n",
       " 0,\n",
       " 272,\n",
       " 256,\n",
       " 272,\n",
       " 272,\n",
       " 272,\n",
       " 272,\n",
       " 272,\n",
       " 272,\n",
       " 2064,\n",
       " 272,\n",
       " 256,\n",
       " 256,\n",
       " 256,\n",
       " 272,\n",
       " 272,\n",
       " 256,\n",
       " 272,\n",
       " 272,\n",
       " 272,\n",
       " 272,\n",
       " 256,\n",
       " 256,\n",
       " 256,\n",
       " 272,\n",
       " 272,\n",
       " 2048,\n",
       " 2064,\n",
       " 0,\n",
       " 272,\n",
       " 0,\n",
       " 272,\n",
       " 16,\n",
       " 0,\n",
       " 272,\n",
       " 272,\n",
       " 256,\n",
       " 272,\n",
       " 272,\n",
       " 272,\n",
       " 272,\n",
       " 16,\n",
       " 256,\n",
       " 256,\n",
       " 256,\n",
       " 272,\n",
       " 272,\n",
       " 256,\n",
       " 272,\n",
       " 272,\n",
       " 272,\n",
       " 272,\n",
       " 272,\n",
       " 0,\n",
       " 272,\n",
       " 2064,\n",
       " 272,\n",
       " 256,\n",
       " 272,\n",
       " 256,\n",
       " 272,\n",
       " 272,\n",
       " 256,\n",
       " 272,\n",
       " 272,\n",
       " 272,\n",
       " 272,\n",
       " 272,\n",
       " 256,\n",
       " 272,\n",
       " 272,\n",
       " 272,\n",
       " 256,\n",
       " 272,\n",
       " 256,\n",
       " 256,\n",
       " 272,\n",
       " 272,\n",
       " 272,\n",
       " 256,\n",
       " 256,\n",
       " 256,\n",
       " 272,\n",
       " 272,\n",
       " 256,\n",
       " 256,\n",
       " 272,\n",
       " 256,\n",
       " 272,\n",
       " 272,\n",
       " 272,\n",
       " 256,\n",
       " 272,\n",
       " 272,\n",
       " 256,\n",
       " 272,\n",
       " 272,\n",
       " 272,\n",
       " 272,\n",
       " 272,\n",
       " 272,\n",
       " 272,\n",
       " 256,\n",
       " 272,\n",
       " 256,\n",
       " 256,\n",
       " 256,\n",
       " 272,\n",
       " 272,\n",
       " 256,\n",
       " 256,\n",
       " 272,\n",
       " 256,\n",
       " 256,\n",
       " 256,\n",
       " 256,\n",
       " 256,\n",
       " 256,\n",
       " 256,\n",
       " 256,\n",
       " 256,\n",
       " 256,\n",
       " 256,\n",
       " 272,\n",
       " 272,\n",
       " 272,\n",
       " 272,\n",
       " 272,\n",
       " 16,\n",
       " 256,\n",
       " 256,\n",
       " 272,\n",
       " 272,\n",
       " 16,\n",
       " 272,\n",
       " 256,\n",
       " 272,\n",
       " 0,\n",
       " 16,\n",
       " 256,\n",
       " 272,\n",
       " 256,\n",
       " 272,\n",
       " 272,\n",
       " 272,\n",
       " 272,\n",
       " 272,\n",
       " 0,\n",
       " 272,\n",
       " 272,\n",
       " 256,\n",
       " 256,\n",
       " 272,\n",
       " 256,\n",
       " 272,\n",
       " 272,\n",
       " 256,\n",
       " 272,\n",
       " 256,\n",
       " 256,\n",
       " 256,\n",
       " 272,\n",
       " 272,\n",
       " 16,\n",
       " 256,\n",
       " 272,\n",
       " 272,\n",
       " 256,\n",
       " 256,\n",
       " 256,\n",
       " 272,\n",
       " 256,\n",
       " 272,\n",
       " 272,\n",
       " 272,\n",
       " 256,\n",
       " 256,\n",
       " 272,\n",
       " 272,\n",
       " 272,\n",
       " 272,\n",
       " 272,\n",
       " 272,\n",
       " 256,\n",
       " 272,\n",
       " 272,\n",
       " 272,\n",
       " 272,\n",
       " 272,\n",
       " 256,\n",
       " 272,\n",
       " 256,\n",
       " 272,\n",
       " 272,\n",
       " 272,\n",
       " 272,\n",
       " 0,\n",
       " 272,\n",
       " 256,\n",
       " 272,\n",
       " 256,\n",
       " 256,\n",
       " 272,\n",
       " 272,\n",
       " 256,\n",
       " 256,\n",
       " 256]"
      ]
     },
     "execution_count": 45,
     "metadata": {},
     "output_type": "execute_result"
    }
   ],
   "source": [
    "reads=col_list[-1]\n",
    "flags=[pread.alignment.flag for pread in reads]\n",
    "flags"
   ]
  },
  {
   "cell_type": "code",
   "execution_count": 74,
   "metadata": {},
   "outputs": [],
   "source": [
    "v_pos=27522077\n",
    "for pcol in samfile.pileup('chr20',v_pos-3000000,v_pos+3000000,min_base_quality=0,flag_filter=0x4|0x100|0x200|0x400|0x800,truncate=True):\n",
    "    pcol.get_query_sequences()"
   ]
  },
  {
   "cell_type": "code",
   "execution_count": 62,
   "metadata": {},
   "outputs": [
    {
     "data": {
      "text/plain": [
       "[0, 0, 0, 0, 0, 16, 0, 16, 0, 16, 16, 0, 16, 0, 16, 0]"
      ]
     },
     "execution_count": 62,
     "metadata": {},
     "output_type": "execute_result"
    }
   ],
   "source": [
    "reads2=col_list2[-1]\n",
    "flags2=[pread.alignment.flag for pread in reads2]\n",
    "flags2"
   ]
  },
  {
   "cell_type": "code",
   "execution_count": 75,
   "metadata": {},
   "outputs": [
    {
     "ename": "ValueError",
     "evalue": "PileupColumn accessed after iterator finished",
     "output_type": "error",
     "traceback": [
      "\u001b[0;31m---------------------------------------------------------------------------\u001b[0m",
      "\u001b[0;31mValueError\u001b[0m                                Traceback (most recent call last)",
      "\u001b[0;32m<ipython-input-75-da1560e50022>\u001b[0m in \u001b[0;36m<module>\u001b[0;34m\u001b[0m\n\u001b[0;32m----> 1\u001b[0;31m \u001b[0mpcol\u001b[0m\u001b[0;34m.\u001b[0m\u001b[0mget_query_sequences\u001b[0m\u001b[0;34m(\u001b[0m\u001b[0;34m)\u001b[0m\u001b[0;34m\u001b[0m\u001b[0;34m\u001b[0m\u001b[0m\n\u001b[0m",
      "\u001b[0;32mpysam/libcalignedsegment.pyx\u001b[0m in \u001b[0;36mpysam.libcalignedsegment.PileupColumn.get_query_sequences\u001b[0;34m()\u001b[0m\n",
      "\u001b[0;31mValueError\u001b[0m: PileupColumn accessed after iterator finished"
     ]
    }
   ],
   "source": [
    "pcol.get_query_sequences()"
   ]
  },
  {
   "cell_type": "code",
   "execution_count": 66,
   "metadata": {},
   "outputs": [
    {
     "data": {
      "text/plain": [
       "16"
      ]
     },
     "execution_count": 66,
     "metadata": {},
     "output_type": "execute_result"
    }
   ],
   "source": [
    "len(flags2)"
   ]
  },
  {
   "cell_type": "code",
   "execution_count": 34,
   "metadata": {},
   "outputs": [
    {
     "data": {
      "text/plain": [
       "0"
      ]
     },
     "execution_count": 34,
     "metadata": {},
     "output_type": "execute_result"
    }
   ],
   "source": [
    "0x800 &0x100"
   ]
  },
  {
   "cell_type": "code",
   "execution_count": 55,
   "metadata": {},
   "outputs": [
    {
     "data": {
      "text/plain": [
       "<pysam.libcalignedsegment.PileupColumn at 0x2aab5747a108>"
      ]
     },
     "execution_count": 55,
     "metadata": {},
     "output_type": "execute_result"
    }
   ],
   "source": [
    "pcol"
   ]
  },
  {
   "cell_type": "code",
   "execution_count": 56,
   "metadata": {},
   "outputs": [
    {
     "ename": "ValueError",
     "evalue": "PileupColumn accessed after iterator finished",
     "output_type": "error",
     "traceback": [
      "\u001b[0;31m---------------------------------------------------------------------------\u001b[0m",
      "\u001b[0;31mValueError\u001b[0m                                Traceback (most recent call last)",
      "\u001b[0;32m<ipython-input-56-d9988233992d>\u001b[0m in \u001b[0;36m<module>\u001b[0;34m\u001b[0m\n\u001b[0;32m----> 1\u001b[0;31m \u001b[0mpcol\u001b[0m\u001b[0;34m.\u001b[0m\u001b[0mpileups\u001b[0m\u001b[0;34m\u001b[0m\u001b[0;34m\u001b[0m\u001b[0m\n\u001b[0m",
      "\u001b[0;32mpysam/libcalignedsegment.pyx\u001b[0m in \u001b[0;36mpysam.libcalignedsegment.PileupColumn.pileups.__get__\u001b[0;34m()\u001b[0m\n",
      "\u001b[0;31mValueError\u001b[0m: PileupColumn accessed after iterator finished"
     ]
    }
   ],
   "source": [
    "pcol.pileups"
   ]
  },
  {
   "cell_type": "code",
   "execution_count": 43,
   "metadata": {},
   "outputs": [],
   "source": [
    "np.random.seed(10)\n",
    "X=np.array([[1,2],[3,4],[5,6],[7,8]])\n",
    "y=np.array([[11,22],[33,44],[55,66],[77,88]])"
   ]
  },
  {
   "cell_type": "code",
   "execution_count": 41,
   "metadata": {},
   "outputs": [
    {
     "data": {
      "text/plain": [
       "array([[5, 6],\n",
       "       [1, 2],\n",
       "       [7, 8],\n",
       "       [3, 4]])"
      ]
     },
     "execution_count": 41,
     "metadata": {},
     "output_type": "execute_result"
    }
   ],
   "source": [
    "np.random.shuffle(x)\n",
    "x"
   ]
  },
  {
   "cell_type": "code",
   "execution_count": 62,
   "metadata": {},
   "outputs": [],
   "source": [
    "np.random.seed(10)\n",
    "perm=np.random.permutation(len(X))"
   ]
  },
  {
   "cell_type": "code",
   "execution_count": 63,
   "metadata": {},
   "outputs": [
    {
     "data": {
      "text/plain": [
       "array([[5, 6],\n",
       "       [1, 2],\n",
       "       [7, 8],\n",
       "       [3, 4]])"
      ]
     },
     "execution_count": 63,
     "metadata": {},
     "output_type": "execute_result"
    }
   ],
   "source": [
    "perm=np.random.permutation(len(X))\n",
    "np.take(X,perm,axis=0,out=X)"
   ]
  },
  {
   "cell_type": "code",
   "execution_count": 69,
   "metadata": {},
   "outputs": [
    {
     "data": {
      "text/plain": [
       "array([[55, 66],\n",
       "       [11, 22],\n",
       "       [77, 88],\n",
       "       [33, 44]])"
      ]
     },
     "execution_count": 69,
     "metadata": {},
     "output_type": "execute_result"
    }
   ],
   "source": [
    "y=np.array([[11,22],[33,44],[55,66],[77,88]])\n",
    "y=np.take(y,perm,axis=0)\n",
    "y"
   ]
  },
  {
   "cell_type": "code",
   "execution_count": 71,
   "metadata": {},
   "outputs": [
    {
     "data": {
      "text/plain": [
       "4"
      ]
     },
     "execution_count": 71,
     "metadata": {},
     "output_type": "execute_result"
    }
   ],
   "source": [
    "max(1,4)"
   ]
  },
  {
   "cell_type": "code",
   "execution_count": 66,
   "metadata": {},
   "outputs": [
    {
     "data": {
      "text/plain": [
       "'adsfgl9'"
      ]
     },
     "execution_count": 66,
     "metadata": {},
     "output_type": "execute_result"
    }
   ],
   "source": [
    "s+'l%d' %9"
   ]
  },
  {
   "cell_type": "code",
   "execution_count": 67,
   "metadata": {},
   "outputs": [
    {
     "data": {
      "text/plain": [
       "array([[ 5,  6],\n",
       "       [ 1,  2],\n",
       "       [ 7,  8],\n",
       "       [ 3,  4],\n",
       "       [55, 66],\n",
       "       [11, 22],\n",
       "       [77, 88],\n",
       "       [33, 44]])"
      ]
     },
     "execution_count": 67,
     "metadata": {},
     "output_type": "execute_result"
    }
   ],
   "source": [
    "np.vstack([X,y])"
   ]
  },
  {
   "cell_type": "code",
   "execution_count": null,
   "metadata": {},
   "outputs": [],
   "source": []
  }
 ],
 "metadata": {
  "kernelspec": {
   "display_name": "Python [conda env:tf] *",
   "language": "python",
   "name": "conda-env-tf-py"
  },
  "language_info": {
   "codemirror_mode": {
    "name": "ipython",
    "version": 3
   },
   "file_extension": ".py",
   "mimetype": "text/x-python",
   "name": "python",
   "nbconvert_exporter": "python",
   "pygments_lexer": "ipython3",
   "version": "3.6.8"
  }
 },
 "nbformat": 4,
 "nbformat_minor": 2
}
